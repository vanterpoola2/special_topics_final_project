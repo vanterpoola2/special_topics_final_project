{
 "cells": [
  {
   "cell_type": "code",
   "execution_count": 1,
   "metadata": {},
   "outputs": [],
   "source": [
    "import pandas as pd\n",
    "import matplotlib.pyplot as plt\n",
    "import numpy as np"
   ]
  },
  {
   "cell_type": "code",
   "execution_count": 2,
   "metadata": {},
   "outputs": [
    {
     "data": {
      "text/plain": [
       "Index(['file_name', 'language', 'label', 'text'], dtype='object')"
      ]
     },
     "execution_count": 2,
     "metadata": {},
     "output_type": "execute_result"
    }
   ],
   "source": [
    "###Load the data as dataframe\n",
    "\n",
    "df = pd.read_csv('cosp_files_c1_training_data.csv', encoding = 'utf-8')\n",
    "\n",
    "df.columns\n",
    "#print(df.isnull().sum())\n"
   ]
  },
  {
   "cell_type": "code",
   "execution_count": 3,
   "metadata": {},
   "outputs": [
    {
     "data": {
      "text/html": [
       "<div>\n",
       "<style scoped>\n",
       "    .dataframe tbody tr th:only-of-type {\n",
       "        vertical-align: middle;\n",
       "    }\n",
       "\n",
       "    .dataframe tbody tr th {\n",
       "        vertical-align: top;\n",
       "    }\n",
       "\n",
       "    .dataframe thead th {\n",
       "        text-align: right;\n",
       "    }\n",
       "</style>\n",
       "<table border=\"1\" class=\"dataframe\">\n",
       "  <thead>\n",
       "    <tr style=\"text-align: right;\">\n",
       "      <th></th>\n",
       "      <th>file_name</th>\n",
       "      <th>language</th>\n",
       "      <th>label</th>\n",
       "      <th>text</th>\n",
       "    </tr>\n",
       "  </thead>\n",
       "  <tbody>\n",
       "    <tr>\n",
       "      <th>0</th>\n",
       "      <td>13.cha</td>\n",
       "      <td>Bosnian</td>\n",
       "      <td>1</td>\n",
       "      <td>this is a story about tom elephant and mary gi...</td>\n",
       "    </tr>\n",
       "    <tr>\n",
       "      <th>1</th>\n",
       "      <td>07.cha</td>\n",
       "      <td>Bosnian</td>\n",
       "      <td>1</td>\n",
       "      <td>once upon time there was a giraffe mary and to...</td>\n",
       "    </tr>\n",
       "    <tr>\n",
       "      <th>2</th>\n",
       "      <td>06.cha</td>\n",
       "      <td>Bosnian</td>\n",
       "      <td>1</td>\n",
       "      <td>while tom elephant and mary giraffe were walki...</td>\n",
       "    </tr>\n",
       "    <tr>\n",
       "      <th>3</th>\n",
       "      <td>12.cha</td>\n",
       "      <td>Bosnian</td>\n",
       "      <td>1</td>\n",
       "      <td>one day the marry giraffe and to elephant they...</td>\n",
       "    </tr>\n",
       "    <tr>\n",
       "      <th>4</th>\n",
       "      <td>10.cha</td>\n",
       "      <td>Bosnian</td>\n",
       "      <td>1</td>\n",
       "      <td>one day tom and mary go for a walk. they walk ...</td>\n",
       "    </tr>\n",
       "  </tbody>\n",
       "</table>\n",
       "</div>"
      ],
      "text/plain": [
       "  file_name language  label                                               text\n",
       "0    13.cha  Bosnian      1  this is a story about tom elephant and mary gi...\n",
       "1    07.cha  Bosnian      1  once upon time there was a giraffe mary and to...\n",
       "2    06.cha  Bosnian      1  while tom elephant and mary giraffe were walki...\n",
       "3    12.cha  Bosnian      1  one day the marry giraffe and to elephant they...\n",
       "4    10.cha  Bosnian      1  one day tom and mary go for a walk. they walk ..."
      ]
     },
     "execution_count": 3,
     "metadata": {},
     "output_type": "execute_result"
    }
   ],
   "source": [
    "df.head()"
   ]
  },
  {
   "cell_type": "code",
   "execution_count": 4,
   "metadata": {},
   "outputs": [],
   "source": [
    "sentences = df.text.values\n",
    "labels = df.label.values\n",
    "\n",
    "from sklearn.feature_extraction.text import CountVectorizer\n",
    "from sklearn.model_selection import train_test_split\n",
    "from sklearn.svm import SVC\n",
    "from sklearn.metrics import accuracy_score\n",
    "\n",
    "\n",
    "# Convert text documents into n-grams representations\n",
    "\n",
    "#CountVectorizer creates a matrix where each row represents a file and each column represents an n-gram. \n",
    "#The feature matrix is used to train a classifier.\n",
    "vectorizer = CountVectorizer(ngram_range=(2,2))  # Adjust n-gram range as needed. (2,2) is for bigrams\n",
    "#vectorizer = CountVectorizer(analyzer='char',ngram_range=(1,4))  # Adjust character n-gram range as needed\n",
    "X = vectorizer.fit_transform(sentences)\n",
    "y = labels\n",
    "\n",
    "\n",
    "\n",
    "\n"
   ]
  },
  {
   "cell_type": "code",
   "execution_count": 5,
   "metadata": {
    "scrolled": true
   },
   "outputs": [
    {
     "name": "stdout",
     "output_type": "stream",
     "text": [
      "    a_k_seven mary  about being  about friendship  about giraffe  about that  \\\n",
      "0                0            0                 0              0           0   \n",
      "1                0            0                 0              0           0   \n",
      "2                0            0                 0              0           0   \n",
      "3                0            0                 0              0           0   \n",
      "4                0            0                 0              0           0   \n",
      "5                0            0                 0              0           0   \n",
      "6                0            0                 0              0           0   \n",
      "7                0            0                 1              0           0   \n",
      "8                0            0                 0              0           0   \n",
      "9                0            0                 0              0           1   \n",
      "10               0            0                 0              0           0   \n",
      "11               0            0                 0              0           0   \n",
      "12               0            0                 1              0           0   \n",
      "13               0            0                 0              0           0   \n",
      "14               0            0                 0              0           0   \n",
      "15               0            0                 0              0           0   \n",
      "16               0            0                 0              0           0   \n",
      "17               0            0                 0              0           0   \n",
      "18               0            0                 0              0           0   \n",
      "19               0            0                 0              0           0   \n",
      "20               0            0                 0              0           0   \n",
      "21               0            0                 0              0           0   \n",
      "22               0            0                 0              0           0   \n",
      "23               0            0                 0              0           0   \n",
      "24               0            0                 0              0           0   \n",
      "25               0            0                 0              0           0   \n",
      "26               0            0                 0              0           0   \n",
      "27               0            0                 0              0           0   \n",
      "28               0            0                 0              0           0   \n",
      "29               0            0                 0              0           0   \n",
      "30               0            0                 0              0           0   \n",
      "31               0            0                 0              0           0   \n",
      "32               0            1                 0              1           0   \n",
      "33               0            0                 0              0           0   \n",
      "34               0            0                 0              0           0   \n",
      "35               0            0                 0              0           0   \n",
      "36               0            0                 0              0           0   \n",
      "37               0            0                 0              0           0   \n",
      "38               0            0                 0              0           0   \n",
      "39               0            0                 0              0           0   \n",
      "40               0            0                 0              0           0   \n",
      "41               0            0                 0              0           0   \n",
      "42               0            0                 0              0           0   \n",
      "43               0            0                 0              0           0   \n",
      "44               0            0                 0              0           0   \n",
      "45               0            0                 0              0           0   \n",
      "46               0            0                 0              0           0   \n",
      "47               1            0                 0              0           0   \n",
      "48               0            0                 0              0           0   \n",
      "49               0            0                 0              0           0   \n",
      "50               0            0                 0              0           0   \n",
      "\n",
      "    about the  about they  about tom  accepted the  accident he  ...  you he  \\\n",
      "0           0           0          1             0            0  ...       0   \n",
      "1           0           0          0             0            0  ...       1   \n",
      "2           0           0          0             0            0  ...       0   \n",
      "3           0           0          0             0            0  ...       0   \n",
      "4           0           0          0             0            0  ...       0   \n",
      "5           0           0          0             0            0  ...       0   \n",
      "6           0           0          0             0            0  ...       0   \n",
      "7           0           0          0             0            0  ...       0   \n",
      "8           0           0          0             0            0  ...       0   \n",
      "9           0           0          0             0            0  ...       0   \n",
      "10          1           1          0             0            0  ...       0   \n",
      "11          0           0          0             0            0  ...       0   \n",
      "12          0           0          0             0            0  ...       0   \n",
      "13          0           0          0             0            0  ...       0   \n",
      "14          0           0          0             0            0  ...       0   \n",
      "15          0           0          0             0            0  ...       0   \n",
      "16          0           0          0             0            1  ...       0   \n",
      "17          0           0          0             0            0  ...       0   \n",
      "18          0           0          0             0            0  ...       0   \n",
      "19          0           0          0             0            0  ...       0   \n",
      "20          0           0          0             0            0  ...       0   \n",
      "21          0           0          0             0            0  ...       0   \n",
      "22          0           0          0             0            0  ...       0   \n",
      "23          0           0          0             0            0  ...       0   \n",
      "24          0           0          0             0            0  ...       0   \n",
      "25          0           0          0             0            0  ...       0   \n",
      "26          0           0          0             0            0  ...       0   \n",
      "27          0           0          0             0            0  ...       0   \n",
      "28          0           0          0             0            0  ...       0   \n",
      "29          0           0          0             0            0  ...       0   \n",
      "30          0           0          0             0            0  ...       0   \n",
      "31          0           0          0             0            0  ...       0   \n",
      "32          0           0          0             0            0  ...       0   \n",
      "33          0           0          0             0            0  ...       0   \n",
      "34          0           0          0             0            0  ...       0   \n",
      "35          0           0          0             0            0  ...       0   \n",
      "36          0           0          0             0            0  ...       0   \n",
      "37          0           0          0             0            0  ...       0   \n",
      "38          0           0          0             0            0  ...       0   \n",
      "39          0           0          0             0            0  ...       0   \n",
      "40          0           0          0             0            0  ...       0   \n",
      "41          0           0          0             0            0  ...       0   \n",
      "42          0           0          0             0            0  ...       0   \n",
      "43          0           0          0             0            0  ...       0   \n",
      "44          0           0          0             0            0  ...       0   \n",
      "45          0           0          0             0            0  ...       0   \n",
      "46          0           0          0             0            0  ...       0   \n",
      "47          0           0          0             0            0  ...       0   \n",
      "48          0           0          0             1            0  ...       0   \n",
      "49          0           0          0             0            0  ...       0   \n",
      "50          0           0          0             0            0  ...       0   \n",
      "\n",
      "    you marys  you okay  you the  you tom  you too  you very  you want  \\\n",
      "0           0         0        0        0        0         0         0   \n",
      "1           1         0        0        0        0         0         0   \n",
      "2           0         0        0        0        0         0         0   \n",
      "3           0         0        0        0        0         0         0   \n",
      "4           0         0        0        0        0         0         0   \n",
      "5           0         0        0        0        0         0         0   \n",
      "6           0         0        0        0        0         0         0   \n",
      "7           0         0        0        0        0         0         0   \n",
      "8           0         0        0        0        0         0         0   \n",
      "9           0         0        0        0        0         0         0   \n",
      "10          0         0        0        0        0         0         0   \n",
      "11          0         0        0        0        0         1         0   \n",
      "12          0         0        0        0        0         0         0   \n",
      "13          0         0        0        0        0         0         0   \n",
      "14          0         0        0        0        0         0         0   \n",
      "15          0         0        0        0        0         0         0   \n",
      "16          0         0        0        0        0         0         0   \n",
      "17          0         0        0        0        0         0         0   \n",
      "18          0         0        0        0        0         0         0   \n",
      "19          0         0        0        0        0         0         0   \n",
      "20          0         0        0        0        0         0         0   \n",
      "21          0         0        0        0        0         0         0   \n",
      "22          0         0        0        0        0         0         0   \n",
      "23          0         0        0        0        0         0         0   \n",
      "24          0         0        0        0        0         0         0   \n",
      "25          0         0        0        0        0         0         0   \n",
      "26          0         0        0        0        0         0         0   \n",
      "27          0         0        0        0        0         0         0   \n",
      "28          0         0        0        1        0         0         0   \n",
      "29          0         0        0        0        0         0         0   \n",
      "30          0         0        0        0        0         0         0   \n",
      "31          0         1        0        0        0         0         0   \n",
      "32          0         0        0        0        0         0         0   \n",
      "33          0         0        0        0        1         0         0   \n",
      "34          0         0        0        0        0         0         0   \n",
      "35          0         0        1        0        0         0         0   \n",
      "36          0         0        0        0        0         0         0   \n",
      "37          0         0        0        0        0         0         0   \n",
      "38          0         0        0        0        0         0         0   \n",
      "39          0         0        0        0        0         0         0   \n",
      "40          0         0        0        0        0         0         0   \n",
      "41          0         0        0        0        0         0         0   \n",
      "42          0         0        0        0        0         0         0   \n",
      "43          0         0        0        0        0         0         1   \n",
      "44          0         0        0        0        0         0         0   \n",
      "45          0         0        0        0        0         0         0   \n",
      "46          0         0        0        0        0         0         0   \n",
      "47          0         0        0        0        0         0         0   \n",
      "48          0         0        0        0        0         0         0   \n",
      "49          0         0        0        0        0         0         0   \n",
      "50          0         0        0        0        0         0         0   \n",
      "\n",
      "    zendaya mary  label  \n",
      "0              0      1  \n",
      "1              0      1  \n",
      "2              0      1  \n",
      "3              0      1  \n",
      "4              0      1  \n",
      "5              0      1  \n",
      "6              0      1  \n",
      "7              0      1  \n",
      "8              0      1  \n",
      "9              0      1  \n",
      "10             0      1  \n",
      "11             0      1  \n",
      "12             0      1  \n",
      "13             0      1  \n",
      "14             0      1  \n",
      "15             0      1  \n",
      "16             0      1  \n",
      "17             0      1  \n",
      "18             0      1  \n",
      "19             0      2  \n",
      "20             0      2  \n",
      "21             0      2  \n",
      "22             0      2  \n",
      "23             0      2  \n",
      "24             0      2  \n",
      "25             0      2  \n",
      "26             0      2  \n",
      "27             0      2  \n",
      "28             0      2  \n",
      "29             0      2  \n",
      "30             0      2  \n",
      "31             0      2  \n",
      "32             0      2  \n",
      "33             0      2  \n",
      "34             0      0  \n",
      "35             1      0  \n",
      "36             0      0  \n",
      "37             0      0  \n",
      "38             0      0  \n",
      "39             0      0  \n",
      "40             0      0  \n",
      "41             0      0  \n",
      "42             0      0  \n",
      "43             0      0  \n",
      "44             0      0  \n",
      "45             0      0  \n",
      "46             0      0  \n",
      "47             0      0  \n",
      "48             0      0  \n",
      "49             0      0  \n",
      "50             0      0  \n",
      "\n",
      "[51 rows x 2765 columns]\n",
      "Feature matrix saved to td_bigram_feature_matrix_1.csv\n"
     ]
    }
   ],
   "source": [
    "# Convert the sparse matrix to a dense matrix and then to a DataFrame\n",
    "feature_names = vectorizer.get_feature_names_out()\n",
    "#print(feature_names)\n",
    "feature_matrix_df = pd.DataFrame(X.toarray(), columns=feature_names)\n",
    "feature_matrix_df['label'] = y\n",
    "\n",
    "# Print the DataFrame or send to an csv file\n",
    "\n",
    "#print(feature_matrix_df)\n",
    "output_file = \"td_bigram_feature_matrix_1.csv\"\n",
    "feature_matrix_df.to_csv(output_file, index=False)\n",
    "print(feature_matrix_df)\n",
    "print(f\"Feature matrix saved to {output_file}\")"
   ]
  },
  {
   "cell_type": "markdown",
   "metadata": {},
   "source": [
    "### Accuracy & Confusion Matrix: linear, c=1.0"
   ]
  },
  {
   "cell_type": "code",
   "execution_count": 7,
   "metadata": {},
   "outputs": [
    {
     "name": "stdout",
     "output_type": "stream",
     "text": [
      "\n",
      "Top features for label 0:\n",
      "the ball         3.000000\n",
      "tom elephant     1.941176\n",
      "and tom          1.764706\n",
      "to the           1.588235\n",
      "mary giraffe     1.352941\n",
      "giraffe and      0.941176\n",
      "the swimming     0.882353\n",
      "swimming pool    0.823529\n",
      "playing with     0.823529\n",
      "to mary          0.764706\n",
      "ball and         0.764706\n",
      "and mary         0.705882\n",
      "pool and         0.647059\n",
      "they are         0.588235\n",
      "in the           0.588235\n",
      "the end          0.588235\n",
      "with the         0.529412\n",
      "the pool         0.529412\n",
      "with ball        0.529412\n",
      "and they         0.529412\n",
      "go to            0.529412\n",
      "mary and         0.470588\n",
      "the elephant     0.470588\n",
      "in love          0.411765\n",
      "ball to          0.411765\n",
      "of tom           0.352941\n",
      "tom and          0.352941\n",
      "catch the        0.352941\n",
      "one day          0.352941\n",
      "ball then        0.352941\n",
      "the water        0.352941\n",
      "and he           0.352941\n",
      "and the          0.352941\n",
      "with tom         0.352941\n",
      "elephant are     0.294118\n",
      "are playing      0.294118\n",
      "next to          0.294118\n",
      "take the         0.294118\n",
      "ball tom         0.294118\n",
      "the giraffe      0.294118\n",
      "fall in          0.235294\n",
      "fall to          0.235294\n",
      "they were        0.235294\n",
      "ball but         0.235294\n",
      "was very         0.235294\n",
      "ball fall        0.235294\n",
      "is playing       0.235294\n",
      "water and        0.235294\n",
      "and take         0.235294\n",
      "very happy       0.235294\n",
      "Name: 0, dtype: float64\n",
      "\n",
      "Top features for label 1:\n",
      "the ball         1.368421\n",
      "the pool         1.368421\n",
      "in the           1.263158\n",
      "and mary         1.000000\n",
      "tom elephant     1.000000\n",
      "they are         0.842105\n",
      "mary giraffe     0.684211\n",
      "tom and          0.684211\n",
      "fall in          0.631579\n",
      "to the           0.631579\n",
      "mary was         0.578947\n",
      "and he           0.578947\n",
      "mary is          0.526316\n",
      "pool tom         0.526316\n",
      "and tom          0.473684\n",
      "fell in          0.473684\n",
      "they have        0.473684\n",
      "in pool          0.473684\n",
      "tom is           0.473684\n",
      "he is            0.473684\n",
      "pool and         0.421053\n",
      "and she          0.421053\n",
      "was very         0.421053\n",
      "in love          0.421053\n",
      "the water        0.421053\n",
      "jumped in        0.368421\n",
      "ball and         0.368421\n",
      "ball fell        0.368421\n",
      "giraffe and      0.368421\n",
      "he was           0.315789\n",
      "and they         0.315789\n",
      "of the           0.315789\n",
      "jump in          0.315789\n",
      "play with        0.315789\n",
      "elephant and     0.315789\n",
      "very happy       0.315789\n",
      "ball mary        0.315789\n",
      "mary and         0.315789\n",
      "elephant they    0.263158\n",
      "her ball         0.263158\n",
      "she was          0.263158\n",
      "pool they        0.263158\n",
      "they lived       0.263158\n",
      "him and          0.263158\n",
      "on the           0.263158\n",
      "pool he          0.263158\n",
      "one day          0.263158\n",
      "out of           0.263158\n",
      "with ball        0.263158\n",
      "they were        0.263158\n",
      "Name: 1, dtype: float64\n",
      "\n",
      "Top features for label 2:\n",
      "the ball         2.533333\n",
      "the pool         1.600000\n",
      "tom elephant     1.533333\n",
      "and tom          1.400000\n",
      "mary giraffe     1.266667\n",
      "in the           1.000000\n",
      "giraffe and      0.933333\n",
      "into the         0.866667\n",
      "to mary          0.733333\n",
      "ball and         0.733333\n",
      "pool and         0.733333\n",
      "mary and         0.666667\n",
      "the water        0.666667\n",
      "and they         0.533333\n",
      "with ball        0.533333\n",
      "and mary         0.466667\n",
      "water and        0.466667\n",
      "to the           0.466667\n",
      "get the          0.400000\n",
      "in love          0.400000\n",
      "swimming pool    0.333333\n",
      "pool tom         0.333333\n",
      "tom was          0.333333\n",
      "love with        0.333333\n",
      "tom and          0.333333\n",
      "and then         0.333333\n",
      "to get           0.333333\n",
      "ever after       0.333333\n",
      "but then         0.333333\n",
      "playing with     0.333333\n",
      "tom jump         0.333333\n",
      "over to          0.333333\n",
      "elephant is      0.266667\n",
      "ball he          0.266667\n",
      "it to            0.266667\n",
      "with tom         0.266667\n",
      "at the           0.266667\n",
      "pool mary        0.266667\n",
      "they play        0.266667\n",
      "and he           0.266667\n",
      "play with        0.266667\n",
      "happily ever     0.266667\n",
      "the elephant     0.266667\n",
      "jump down        0.266667\n",
      "pool to          0.266667\n",
      "mary is          0.266667\n",
      "down in          0.266667\n",
      "and swim         0.266667\n",
      "ball to          0.266667\n",
      "he has           0.266667\n",
      "Name: 2, dtype: float64\n"
     ]
    }
   ],
   "source": [
    "per_label_means = feature_matrix_df.groupby('label').mean().T\n",
    "\n",
    "# Show top features for each label\n",
    "for label in per_label_means.columns:\n",
    "    print(f\"\\nTop features for label {label}:\")\n",
    "    print(per_label_means[label].sort_values(ascending=False).head(50))"
   ]
  },
  {
   "cell_type": "code",
   "execution_count": 8,
   "metadata": {},
   "outputs": [],
   "source": [
    "### Split the data into training and testing sets\n",
    "X_train, X_test, y_train, y_test = train_test_split(X, y, test_size=0.2, random_state=42)\n",
    "\n",
    "### Train the SVM classifier\n",
    "ln_svm_classifier_1_0 = SVC(kernel='linear',C=1.0,class_weight='balanced')  \n",
    "ln_svm_classifier_1_0.fit(X_train, y_train)\n",
    "\n",
    "### Test - make predictions on the validation set\n",
    "ln_y_pred_1_0 = ln_svm_classifier_1_0.predict(X_test)\n"
   ]
  },
  {
   "cell_type": "code",
   "execution_count": 9,
   "metadata": {},
   "outputs": [
    {
     "name": "stdout",
     "output_type": "stream",
     "text": [
      "Accuracy: 0.5454545454545454\n",
      "Confusion Matrix:\n",
      "[[0 1 2]\n",
      " [0 2 2]\n",
      " [0 0 4]]\n",
      "Classification Report:\n",
      "              precision    recall  f1-score   support\n",
      "\n",
      "           0       0.00      0.00      0.00         3\n",
      "           1       0.67      0.50      0.57         4\n",
      "           2       0.50      1.00      0.67         4\n",
      "\n",
      "    accuracy                           0.55        11\n",
      "   macro avg       0.39      0.50      0.41        11\n",
      "weighted avg       0.42      0.55      0.45        11\n",
      "\n"
     ]
    },
    {
     "name": "stderr",
     "output_type": "stream",
     "text": [
      "/opt/anaconda3/lib/python3.12/site-packages/sklearn/metrics/_classification.py:1531: UndefinedMetricWarning: Precision is ill-defined and being set to 0.0 in labels with no predicted samples. Use `zero_division` parameter to control this behavior.\n",
      "  _warn_prf(average, modifier, f\"{metric.capitalize()} is\", len(result))\n",
      "/opt/anaconda3/lib/python3.12/site-packages/sklearn/metrics/_classification.py:1531: UndefinedMetricWarning: Precision is ill-defined and being set to 0.0 in labels with no predicted samples. Use `zero_division` parameter to control this behavior.\n",
      "  _warn_prf(average, modifier, f\"{metric.capitalize()} is\", len(result))\n",
      "/opt/anaconda3/lib/python3.12/site-packages/sklearn/metrics/_classification.py:1531: UndefinedMetricWarning: Precision is ill-defined and being set to 0.0 in labels with no predicted samples. Use `zero_division` parameter to control this behavior.\n",
      "  _warn_prf(average, modifier, f\"{metric.capitalize()} is\", len(result))\n"
     ]
    }
   ],
   "source": [
    "from sklearn.metrics import accuracy_score, classification_report, confusion_matrix\n",
    "\n",
    "### Evaluate the performance\n",
    "ln_accuracy_1_0 = accuracy_score(y_test, ln_y_pred_1_0)\n",
    "print(f\"Accuracy: {ln_accuracy_1_0}\")\n",
    "\n",
    "ln_conf_matrix_1_0 = confusion_matrix(y_test, ln_y_pred_1_0)\n",
    "ln_classification_rep_1_0 = classification_report(y_test, ln_y_pred_1_0)\n",
    "\n",
    "# Print the evaluation metrics\n",
    "print(f'Confusion Matrix:\\n{ln_conf_matrix_1_0}')\n",
    "print(f'Classification Report:\\n{ln_classification_rep_1_0}')"
   ]
  },
  {
   "cell_type": "markdown",
   "metadata": {},
   "source": [
    "### Accuracy & Confusion Matrix: linear, c=0.1"
   ]
  },
  {
   "cell_type": "code",
   "execution_count": 11,
   "metadata": {},
   "outputs": [
    {
     "name": "stdout",
     "output_type": "stream",
     "text": [
      "              Importance\n",
      "the pool        0.028122\n",
      "the ball        0.026838\n",
      "he is           0.026060\n",
      "fall in         0.019805\n",
      "mary and        0.016018\n",
      "mary giraffe    0.012943\n",
      "in the          0.012620\n",
      "happily ever    0.012574\n",
      "are go          0.012203\n",
      "to the          0.011032\n"
     ]
    }
   ],
   "source": [
    "#Random Forest classifier run\n",
    "from sklearn.ensemble import RandomForestClassifier\n",
    "\n",
    "# Random Forest\n",
    "ln_svm_classifier_1_0 = RandomForestClassifier(random_state=42)\n",
    "ln_svm_classifier_1_0.fit(X_test, y_test)\n",
    "\n",
    "# Feature importance\n",
    "feature_importance = pd.DataFrame(ln_svm_classifier_1_0.feature_importances_, index=vectorizer.get_feature_names_out(), columns=['Importance'])\n",
    "feature_importance = feature_importance.sort_values(by='Importance', ascending=False)\n",
    "\n",
    "print(feature_importance.head(10))  # Top 10 important features"
   ]
  },
  {
   "cell_type": "code",
   "execution_count": 12,
   "metadata": {},
   "outputs": [
    {
     "data": {
      "image/png": "[encoded data removed]",
      "text/plain": [
       "<Figure size 1200x600 with 1 Axes>"
      ]
     },
     "metadata": {},
     "output_type": "display_data"
    },
    {
     "data": {
      "image/png": "[encoded data removed]",
      "text/plain": [
       "<Figure size 1200x600 with 1 Axes>"
      ]
     },
     "metadata": {},
     "output_type": "display_data"
    },
    {
     "data": {
      "image/png": "[encoded data removed]",
      "text/plain": [
       "<Figure size 1200x600 with 1 Axes>"
      ]
     },
     "metadata": {},
     "output_type": "display_data"
    }
   ],
   "source": [
    "import matplotlib.pyplot as plt\n",
    "\n",
    "# Define custom ranges for each label\n",
    "custom_ranges = {\n",
    "    0: (0, 10),\n",
    "    1: (0, 10),\n",
    "    2: (0,10)\n",
    "}\n",
    "\n",
    "# Map numeric labels to language names\n",
    "label_names = {\n",
    "    0: 'Spanish',\n",
    "    1: 'Bosnian',\n",
    "    2: 'Danish'\n",
    "}\n",
    "\n",
    "# Plot feature importance per label with its own range\n",
    "for label, (start, end) in custom_ranges.items():\n",
    "    # Sort feature importances for the label\n",
    "    sorted_features = per_label_means[label].sort_values(ascending=False)\n",
    "\n",
    "    # Plot selected range\n",
    "    plt.figure(figsize=(12, 6))\n",
    "    sorted_features.iloc[start:end].plot(kind='bar')\n",
    "    plt.title(f'Feature Importances Ranked {start+1} to {end} for {label_names[label]}')\n",
    "    plt.ylabel('Importance Score')\n",
    "    plt.xlabel('Features')\n",
    "    plt.xticks(rotation=90)\n",
    "    plt.tight_layout()\n",
    "    plt.show()"
   ]
  },
  {
   "cell_type": "code",
   "execution_count": 13,
   "metadata": {},
   "outputs": [],
   "source": [
    "### Split the data into training and testing sets\n",
    "X_train, X_test, y_train, y_test = train_test_split(X, y, test_size=0.2, random_state=42)\n",
    "\n",
    "### Train the SVM classifier\n",
    "ln_svm_classifier_0_1 = SVC(kernel='linear',C=0.1,class_weight='balanced')  \n",
    "ln_svm_classifier_0_1.fit(X_train, y_train)\n",
    "\n",
    "### Test - make predictions on the validation set\n",
    "ln_y_pred_0_1 = ln_svm_classifier_0_1.predict(X_test)"
   ]
  },
  {
   "cell_type": "code",
   "execution_count": 14,
   "metadata": {},
   "outputs": [
    {
     "name": "stdout",
     "output_type": "stream",
     "text": [
      "Accuracy: 0.5454545454545454\n",
      "Confusion Matrix:\n",
      "[[0 1 2]\n",
      " [0 2 2]\n",
      " [0 0 4]]\n",
      "Classification Report:\n",
      "              precision    recall  f1-score   support\n",
      "\n",
      "           0       0.00      0.00      0.00         3\n",
      "           1       0.67      0.50      0.57         4\n",
      "           2       0.50      1.00      0.67         4\n",
      "\n",
      "    accuracy                           0.55        11\n",
      "   macro avg       0.39      0.50      0.41        11\n",
      "weighted avg       0.42      0.55      0.45        11\n",
      "\n"
     ]
    },
    {
     "name": "stderr",
     "output_type": "stream",
     "text": [
      "/opt/anaconda3/lib/python3.12/site-packages/sklearn/metrics/_classification.py:1531: UndefinedMetricWarning: Precision is ill-defined and being set to 0.0 in labels with no predicted samples. Use `zero_division` parameter to control this behavior.\n",
      "  _warn_prf(average, modifier, f\"{metric.capitalize()} is\", len(result))\n",
      "/opt/anaconda3/lib/python3.12/site-packages/sklearn/metrics/_classification.py:1531: UndefinedMetricWarning: Precision is ill-defined and being set to 0.0 in labels with no predicted samples. Use `zero_division` parameter to control this behavior.\n",
      "  _warn_prf(average, modifier, f\"{metric.capitalize()} is\", len(result))\n",
      "/opt/anaconda3/lib/python3.12/site-packages/sklearn/metrics/_classification.py:1531: UndefinedMetricWarning: Precision is ill-defined and being set to 0.0 in labels with no predicted samples. Use `zero_division` parameter to control this behavior.\n",
      "  _warn_prf(average, modifier, f\"{metric.capitalize()} is\", len(result))\n"
     ]
    }
   ],
   "source": [
    "from sklearn.metrics import accuracy_score, classification_report, confusion_matrix\n",
    "\n",
    "### Evaluate the performance\n",
    "ln_accuracy_0_1 = accuracy_score(y_test, ln_y_pred_0_1)\n",
    "print(f\"Accuracy: {ln_accuracy_0_1}\")\n",
    "\n",
    "ln_conf_matrix_0_1 = confusion_matrix(y_test, ln_y_pred_0_1)\n",
    "ln_classification_rep_0_1 = classification_report(y_test, ln_y_pred_0_1)\n",
    "\n",
    "# Print the evaluation metrics\n",
    "print(f'Confusion Matrix:\\n{ln_conf_matrix_0_1}')\n",
    "print(f'Classification Report:\\n{ln_classification_rep_0_1}')"
   ]
  },
  {
   "cell_type": "markdown",
   "metadata": {},
   "source": [
    "### Accuracy & Confusion Matrix: rbf, c=1.0"
   ]
  },
  {
   "cell_type": "code",
   "execution_count": 16,
   "metadata": {},
   "outputs": [],
   "source": [
    "### Split the data into training and testing sets\n",
    "X_train, X_test, y_train, y_test = train_test_split(X, y, test_size=0.2, random_state=42)\n",
    "\n",
    "### Train the SVM classifier\n",
    "rbf_svm_classifier_1_0 = SVC(kernel='rbf',C=1.0,class_weight='balanced')  \n",
    "rbf_svm_classifier_1_0.fit(X_train, y_train)\n",
    "\n",
    "### Test - make predictions on the validation set\n",
    "rbf_y_pred_1_0 = rbf_svm_classifier_1_0.predict(X_test)"
   ]
  },
  {
   "cell_type": "code",
   "execution_count": 17,
   "metadata": {},
   "outputs": [
    {
     "name": "stdout",
     "output_type": "stream",
     "text": [
      "Accuracy: 0.5454545454545454\n",
      "Confusion Matrix:\n",
      "[[1 1 1]\n",
      " [0 3 1]\n",
      " [0 2 2]]\n",
      "Classification Report:\n",
      "              precision    recall  f1-score   support\n",
      "\n",
      "           0       1.00      0.33      0.50         3\n",
      "           1       0.50      0.75      0.60         4\n",
      "           2       0.50      0.50      0.50         4\n",
      "\n",
      "    accuracy                           0.55        11\n",
      "   macro avg       0.67      0.53      0.53        11\n",
      "weighted avg       0.64      0.55      0.54        11\n",
      "\n"
     ]
    }
   ],
   "source": [
    "from sklearn.metrics import accuracy_score, classification_report, confusion_matrix\n",
    "\n",
    "### Evaluate the performance\n",
    "rbf_accuracy_1_0 = accuracy_score(y_test, rbf_y_pred_1_0)\n",
    "print(f\"Accuracy: {rbf_accuracy_1_0}\")\n",
    "\n",
    "rbf_conf_matrix_1_0 = confusion_matrix(y_test, rbf_y_pred_1_0)\n",
    "rbf_classification_rep_1_0 = classification_report(y_test, rbf_y_pred_1_0)\n",
    "\n",
    "# Print the evaluation metrics\n",
    "print(f'Confusion Matrix:\\n{rbf_conf_matrix_1_0}')\n",
    "print(f'Classification Report:\\n{rbf_classification_rep_1_0}')"
   ]
  },
  {
   "cell_type": "markdown",
   "metadata": {},
   "source": [
    "### Accuracy & Confusion Matrix: rbf, c=0.1"
   ]
  },
  {
   "cell_type": "code",
   "execution_count": 19,
   "metadata": {},
   "outputs": [],
   "source": [
    "### Split the data into training and testing sets\n",
    "X_train, X_test, y_train, y_test = train_test_split(X, y, test_size=0.2, random_state=42)\n",
    "\n",
    "### Train the SVM classifier\n",
    "rbf_svm_classifier_0_1 = SVC(kernel='rbf',C=0.1,class_weight='balanced')  \n",
    "rbf_svm_classifier_0_1.fit(X_train, y_train)\n",
    "\n",
    "### Test - make predictions on the validation set\n",
    "rbf_y_pred_0_1 = rbf_svm_classifier_0_1.predict(X_test)"
   ]
  },
  {
   "cell_type": "code",
   "execution_count": 20,
   "metadata": {},
   "outputs": [
    {
     "name": "stdout",
     "output_type": "stream",
     "text": [
      "Accuracy: 0.36363636363636365\n",
      "Confusion Matrix:\n",
      "[[0 3 0]\n",
      " [0 4 0]\n",
      " [0 4 0]]\n",
      "Classification Report:\n",
      "              precision    recall  f1-score   support\n",
      "\n",
      "           0       0.00      0.00      0.00         3\n",
      "           1       0.36      1.00      0.53         4\n",
      "           2       0.00      0.00      0.00         4\n",
      "\n",
      "    accuracy                           0.36        11\n",
      "   macro avg       0.12      0.33      0.18        11\n",
      "weighted avg       0.13      0.36      0.19        11\n",
      "\n"
     ]
    },
    {
     "name": "stderr",
     "output_type": "stream",
     "text": [
      "/opt/anaconda3/lib/python3.12/site-packages/sklearn/metrics/_classification.py:1531: UndefinedMetricWarning: Precision is ill-defined and being set to 0.0 in labels with no predicted samples. Use `zero_division` parameter to control this behavior.\n",
      "  _warn_prf(average, modifier, f\"{metric.capitalize()} is\", len(result))\n",
      "/opt/anaconda3/lib/python3.12/site-packages/sklearn/metrics/_classification.py:1531: UndefinedMetricWarning: Precision is ill-defined and being set to 0.0 in labels with no predicted samples. Use `zero_division` parameter to control this behavior.\n",
      "  _warn_prf(average, modifier, f\"{metric.capitalize()} is\", len(result))\n",
      "/opt/anaconda3/lib/python3.12/site-packages/sklearn/metrics/_classification.py:1531: UndefinedMetricWarning: Precision is ill-defined and being set to 0.0 in labels with no predicted samples. Use `zero_division` parameter to control this behavior.\n",
      "  _warn_prf(average, modifier, f\"{metric.capitalize()} is\", len(result))\n"
     ]
    }
   ],
   "source": [
    "from sklearn.metrics import accuracy_score, classification_report, confusion_matrix\n",
    "\n",
    "### Evaluate the performance\n",
    "rbf_accuracy_0_1 = accuracy_score(y_test, rbf_y_pred_0_1)\n",
    "print(f\"Accuracy: {rbf_accuracy_0_1}\")\n",
    "\n",
    "rbf_conf_matrix_0_1 = confusion_matrix(y_test, rbf_y_pred_0_1)\n",
    "rbf_classification_rep_0_1 = classification_report(y_test, rbf_y_pred_0_1)\n",
    "\n",
    "# Print the evaluation metrics\n",
    "print(f'Confusion Matrix:\\n{rbf_conf_matrix_0_1}')\n",
    "print(f'Classification Report:\\n{rbf_classification_rep_0_1}')"
   ]
  },
  {
   "cell_type": "markdown",
   "metadata": {},
   "source": [
    "## Cross Validation"
   ]
  },
  {
   "cell_type": "markdown",
   "metadata": {},
   "source": [
    "### linear, c=1.0, k=5"
   ]
  },
  {
   "cell_type": "code",
   "execution_count": 23,
   "metadata": {},
   "outputs": [
    {
     "name": "stdout",
     "output_type": "stream",
     "text": [
      "Cross-validation scores: [0.54545455 0.5        0.9        0.7        0.5       ]\n",
      "Mean CV accuracy: 0.6290909090909091\n"
     ]
    }
   ],
   "source": [
    "#Cross_Validation \n",
    "from sklearn.model_selection import KFold\n",
    "from sklearn.model_selection import cross_val_score, LeaveOneOut\n",
    "\n",
    "\n",
    "ln_model_5_1_0 = SVC(kernel='linear',C=1.0,class_weight='balanced') \n",
    "\n",
    "# Define the number of folds for cross-validation\n",
    "ln_kfold_5_1_0 = KFold(n_splits=5, shuffle=True, random_state=42)\n",
    "# Project: LeaveOneOut cross-validation instead of kfold\n",
    "# loo = LeaveOneOut()\n",
    "\n",
    "# Perform cross-validation\n",
    "ln_scores_5_1_0 = cross_val_score(ln_model_5_1_0, X, y, cv=ln_kfold_5_1_0)\n",
    "# scores = cross_val_score(model, X, y, cv=loo)\n",
    "\n",
    "# Print the cross-validation scores\n",
    "print(\"Cross-validation scores:\", ln_scores_5_1_0)\n",
    "print(\"Mean CV accuracy:\", np.mean(ln_scores_5_1_0))"
   ]
  },
  {
   "cell_type": "markdown",
   "metadata": {},
   "source": [
    "### linear, c=0.1, k=5"
   ]
  },
  {
   "cell_type": "code",
   "execution_count": 25,
   "metadata": {},
   "outputs": [
    {
     "name": "stdout",
     "output_type": "stream",
     "text": [
      "Cross-validation scores: [0.54545455 0.5        0.9        0.7        0.5       ]\n",
      "Mean CV accuracy: 0.6290909090909091\n"
     ]
    }
   ],
   "source": [
    "#Cross_Validation \n",
    "from sklearn.model_selection import KFold\n",
    "from sklearn.model_selection import cross_val_score, LeaveOneOut\n",
    "\n",
    "\n",
    "ln_model_5_0_1 = SVC(kernel='linear',C=0.1,class_weight='balanced') \n",
    "\n",
    "# Define the number of folds for cross-validation\n",
    "ln_kfold_5_0_1 = KFold(n_splits=5, shuffle=True, random_state=42)\n",
    "# Project: LeaveOneOut cross-validation instead of kfold\n",
    "# loo = LeaveOneOut()\n",
    "\n",
    "# Perform cross-validation\n",
    "ln_scores_5_0_1 = cross_val_score(ln_model_5_0_1, X, y, cv=ln_kfold_5_0_1)\n",
    "# scores = cross_val_score(model, X, y, cv=loo)\n",
    "\n",
    "# Print the cross-validation scores\n",
    "print(\"Cross-validation scores:\", ln_scores_5_0_1)\n",
    "print(\"Mean CV accuracy:\", np.mean(ln_scores_5_0_1))"
   ]
  },
  {
   "cell_type": "markdown",
   "metadata": {},
   "source": [
    "### LeaveOneOut"
   ]
  },
  {
   "cell_type": "code",
   "execution_count": 26,
   "metadata": {},
   "outputs": [
    {
     "name": "stdout",
     "output_type": "stream",
     "text": [
      "Cross-validation scores: [1. 0. 1. 1. 1. 1. 0. 1. 0. 1. 0. 1. 1. 1. 0. 1. 1. 1. 0. 0. 1. 0. 0. 0.\n",
      " 1. 1. 1. 1. 1. 0. 0. 1. 1. 0. 0. 1. 1. 1. 1. 0. 0. 1. 1. 0. 1. 1. 0. 1.\n",
      " 1. 1. 1.]\n",
      "Mean CV accuracy: 0.6470588235294118\n"
     ]
    }
   ],
   "source": [
    "#Cross_Validation \n",
    "from sklearn.model_selection import KFold\n",
    "from sklearn.model_selection import cross_val_score, LeaveOneOut\n",
    "\n",
    "\n",
    "ln_model_5_1_0 = SVC(kernel='linear',C=1.0,class_weight='balanced') \n",
    "\n",
    "# Define the number of folds for cross-validation\n",
    "#ln_kfold_5_1_0 = KFold(n_splits=5, shuffle=True, random_state=42)\n",
    "# Project: LeaveOneOut cross-validation instead of kfold\n",
    "loo = LeaveOneOut()\n",
    "\n",
    "# Perform cross-validation\n",
    "ln_scores_5_1_0 = cross_val_score(ln_model_5_1_0, X, y, cv=loo)\n",
    "# scores = cross_val_score(model, X, y, cv=loo)\n",
    "\n",
    "# Print the cross-validation scores\n",
    "print(\"Cross-validation scores:\", ln_scores_5_1_0)\n",
    "print(\"Mean CV accuracy:\", np.mean(ln_scores_5_1_0))"
   ]
  },
  {
   "cell_type": "markdown",
   "metadata": {},
   "source": [
    "### linear, c=1.0, k=6"
   ]
  },
  {
   "cell_type": "code",
   "execution_count": 28,
   "metadata": {},
   "outputs": [
    {
     "name": "stdout",
     "output_type": "stream",
     "text": [
      "Cross-validation scores: [0.66666667 0.66666667 0.77777778 0.625      0.5        0.75      ]\n",
      "Mean CV accuracy: 0.6643518518518519\n"
     ]
    }
   ],
   "source": [
    "#Cross_Validation \n",
    "from sklearn.model_selection import KFold\n",
    "from sklearn.model_selection import cross_val_score, LeaveOneOut\n",
    "\n",
    "\n",
    "ln_model_6_1_0 = SVC(kernel='linear',C=1.0,class_weight='balanced') \n",
    "\n",
    "# Define the number of folds for cross-validation\n",
    "ln_kfold_6_1_0 = KFold(n_splits=6, shuffle=True, random_state=42)\n",
    "# Project: LeaveOneOut cross-validation instead of kfold\n",
    "# loo = LeaveOneOut()\n",
    "\n",
    "# Perform cross-validation\n",
    "ln_scores_6_1_0 = cross_val_score(ln_model_6_1_0, X, y, cv=ln_kfold_6_1_0)\n",
    "# scores = cross_val_score(model, X, y, cv=loo)\n",
    "\n",
    "# Print the cross-validation scores\n",
    "print(\"Cross-validation scores:\", ln_scores_6_1_0)\n",
    "print(\"Mean CV accuracy:\", np.mean(ln_scores_6_1_0))"
   ]
  },
  {
   "cell_type": "markdown",
   "metadata": {},
   "source": [
    "### linear, c=0.1, k=6"
   ]
  },
  {
   "cell_type": "code",
   "execution_count": 30,
   "metadata": {},
   "outputs": [
    {
     "name": "stdout",
     "output_type": "stream",
     "text": [
      "Cross-validation scores: [0.66666667 0.66666667 0.77777778 0.625      0.5        0.75      ]\n",
      "Mean CV accuracy: 0.6643518518518519\n"
     ]
    }
   ],
   "source": [
    "#Cross_Validation \n",
    "from sklearn.model_selection import KFold\n",
    "from sklearn.model_selection import cross_val_score, LeaveOneOut\n",
    "\n",
    "\n",
    "ln_model_6_0_1 = SVC(kernel='linear',C=0.1,class_weight='balanced') \n",
    "\n",
    "# Define the number of folds for cross-validation\n",
    "ln_kfold_6_0_1 = KFold(n_splits=6, shuffle=True, random_state=42)\n",
    "# Project: LeaveOneOut cross-validation instead of kfold\n",
    "# loo = LeaveOneOut()\n",
    "\n",
    "# Perform cross-validation\n",
    "ln_scores_6_0_1 = cross_val_score(ln_model_6_0_1, X, y, cv=ln_kfold_6_0_1)\n",
    "# scores = cross_val_score(model, X, y, cv=loo)\n",
    "\n",
    "# Print the cross-validation scores\n",
    "print(\"Cross-validation scores:\", ln_scores_6_0_1)\n",
    "print(\"Mean CV accuracy:\", np.mean(ln_scores_6_0_1))"
   ]
  },
  {
   "cell_type": "markdown",
   "metadata": {},
   "source": [
    "### linear, c=1.0, k=7"
   ]
  },
  {
   "cell_type": "code",
   "execution_count": 32,
   "metadata": {},
   "outputs": [
    {
     "name": "stdout",
     "output_type": "stream",
     "text": [
      "Cross-validation scores: [0.625      0.75       0.71428571 0.85714286 0.42857143 0.42857143\n",
      " 0.85714286]\n",
      "Mean CV accuracy: 0.6658163265306122\n"
     ]
    }
   ],
   "source": [
    "#Cross_Validation \n",
    "from sklearn.model_selection import KFold\n",
    "from sklearn.model_selection import cross_val_score, LeaveOneOut\n",
    "\n",
    "\n",
    "ln_model_7_1_0 = SVC(kernel='linear',C=1.0,class_weight='balanced') \n",
    "\n",
    "# Define the number of folds for cross-validation\n",
    "ln_kfold_7_1_0 = KFold(n_splits=7, shuffle=True, random_state=42)\n",
    "# Project: LeaveOneOut cross-validation instead of kfold\n",
    "# loo = LeaveOneOut()\n",
    "\n",
    "# Perform cross-validation\n",
    "ln_scores_7_1_0 = cross_val_score(ln_model_7_1_0, X, y, cv=ln_kfold_7_1_0)\n",
    "# scores = cross_val_score(model, X, y, cv=loo)\n",
    "\n",
    "# Print the cross-validation scores\n",
    "print(\"Cross-validation scores:\", ln_scores_7_1_0)\n",
    "print(\"Mean CV accuracy:\", np.mean(ln_scores_7_1_0))"
   ]
  },
  {
   "cell_type": "markdown",
   "metadata": {},
   "source": [
    "### Linear, c=0.1, k=7"
   ]
  },
  {
   "cell_type": "code",
   "execution_count": 34,
   "metadata": {},
   "outputs": [
    {
     "name": "stdout",
     "output_type": "stream",
     "text": [
      "Cross-validation scores: [0.625      0.75       0.71428571 0.85714286 0.42857143 0.42857143\n",
      " 0.85714286]\n",
      "Mean CV accuracy: 0.6658163265306122\n"
     ]
    }
   ],
   "source": [
    "#Cross_Validation \n",
    "from sklearn.model_selection import KFold\n",
    "from sklearn.model_selection import cross_val_score, LeaveOneOut\n",
    "\n",
    "\n",
    "ln_model_7_0_1 = SVC(kernel='linear',C=0.1,class_weight='balanced') \n",
    "\n",
    "# Define the number of folds for cross-validation\n",
    "ln_kfold_7_0_1 = KFold(n_splits=7, shuffle=True, random_state=42)\n",
    "# Project: LeaveOneOut cross-validation instead of kfold\n",
    "# loo = LeaveOneOut()\n",
    "\n",
    "# Perform cross-validation\n",
    "ln_scores_7_0_1 = cross_val_score(ln_model_7_0_1, X, y, cv=ln_kfold_7_0_1)\n",
    "# scores = cross_val_score(model, X, y, cv=loo)\n",
    "\n",
    "# Print the cross-validation scores\n",
    "print(\"Cross-validation scores:\", ln_scores_7_0_1)\n",
    "print(\"Mean CV accuracy:\", np.mean(ln_scores_7_0_1))"
   ]
  },
  {
   "cell_type": "markdown",
   "metadata": {},
   "source": [
    "### Linear, c=1.0, k=8"
   ]
  },
  {
   "cell_type": "code",
   "execution_count": 36,
   "metadata": {},
   "outputs": [
    {
     "name": "stdout",
     "output_type": "stream",
     "text": [
      "Cross-validation scores: [0.57142857 0.85714286 0.71428571 1.         0.66666667 0.5\n",
      " 0.33333333 0.83333333]\n",
      "Mean CV accuracy: 0.6845238095238095\n"
     ]
    }
   ],
   "source": [
    "#Cross_Validation \n",
    "from sklearn.model_selection import KFold\n",
    "from sklearn.model_selection import cross_val_score, LeaveOneOut\n",
    "\n",
    "\n",
    "ln_model_8_1_0 = SVC(kernel='linear',C=1.0,class_weight='balanced') \n",
    "\n",
    "# Define the number of folds for cross-validation\n",
    "ln_kfold_8_1_0 = KFold(n_splits=8, shuffle=True, random_state=42)\n",
    "# Project: LeaveOneOut cross-validation instead of kfold\n",
    "# loo = LeaveOneOut()\n",
    "\n",
    "# Perform cross-validation\n",
    "ln_scores_8_1_0 = cross_val_score(ln_model_8_1_0, X, y, cv=ln_kfold_8_1_0)\n",
    "# scores = cross_val_score(model, X, y, cv=loo)\n",
    "\n",
    "# Print the cross-validation scores\n",
    "print(\"Cross-validation scores:\", ln_scores_8_1_0)\n",
    "print(\"Mean CV accuracy:\", np.mean(ln_scores_8_1_0))"
   ]
  },
  {
   "cell_type": "markdown",
   "metadata": {},
   "source": [
    "### Linear, c=0.1, k=8"
   ]
  },
  {
   "cell_type": "code",
   "execution_count": 38,
   "metadata": {},
   "outputs": [
    {
     "name": "stdout",
     "output_type": "stream",
     "text": [
      "Cross-validation scores: [0.57142857 0.85714286 0.71428571 1.         0.66666667 0.5\n",
      " 0.33333333 0.83333333]\n",
      "Mean CV accuracy: 0.6845238095238095\n"
     ]
    }
   ],
   "source": [
    "#Cross_Validation \n",
    "from sklearn.model_selection import KFold\n",
    "from sklearn.model_selection import cross_val_score, LeaveOneOut\n",
    "\n",
    "\n",
    "ln_model_8_0_1 = SVC(kernel='linear',C=0.1,class_weight='balanced') \n",
    "\n",
    "# Define the number of folds for cross-validation\n",
    "ln_kfold_8_0_1 = KFold(n_splits=8, shuffle=True, random_state=42)\n",
    "# Project: LeaveOneOut cross-validation instead of kfold\n",
    "# loo = LeaveOneOut()\n",
    "\n",
    "# Perform cross-validation\n",
    "ln_scores_8_0_1 = cross_val_score(ln_model_8_0_1, X, y, cv=ln_kfold_8_0_1)\n",
    "# scores = cross_val_score(model, X, y, cv=loo)\n",
    "\n",
    "# Print the cross-validation scores\n",
    "print(\"Cross-validation scores:\", ln_scores_8_0_1)\n",
    "print(\"Mean CV accuracy:\", np.mean(ln_scores_8_0_1))"
   ]
  },
  {
   "cell_type": "markdown",
   "metadata": {},
   "source": [
    "### Linear, c=1.0, k=9"
   ]
  },
  {
   "cell_type": "code",
   "execution_count": 40,
   "metadata": {},
   "outputs": [
    {
     "name": "stdout",
     "output_type": "stream",
     "text": [
      "Cross-validation scores: [0.5        0.5        0.66666667 0.66666667 0.83333333 0.5\n",
      " 0.6        0.2        0.8       ]\n",
      "Mean CV accuracy: 0.5851851851851851\n"
     ]
    }
   ],
   "source": [
    "#Cross_Validation \n",
    "from sklearn.model_selection import KFold\n",
    "from sklearn.model_selection import cross_val_score, LeaveOneOut\n",
    "\n",
    "\n",
    "ln_model_9_1_0 = SVC(kernel='linear',C=1.0,class_weight='balanced') \n",
    "\n",
    "# Define the number of folds for cross-validation\n",
    "ln_kfold_9_1_0 = KFold(n_splits=9, shuffle=True, random_state=42)\n",
    "# Project: LeaveOneOut cross-validation instead of kfold\n",
    "# loo = LeaveOneOut()\n",
    "\n",
    "# Perform cross-validation\n",
    "ln_scores_9_1_0 = cross_val_score(ln_model_9_1_0, X, y, cv=ln_kfold_9_1_0)\n",
    "# scores = cross_val_score(model, X, y, cv=loo)\n",
    "\n",
    "# Print the cross-validation scores\n",
    "print(\"Cross-validation scores:\", ln_scores_9_1_0)\n",
    "print(\"Mean CV accuracy:\", np.mean(ln_scores_9_1_0))"
   ]
  },
  {
   "cell_type": "markdown",
   "metadata": {},
   "source": [
    "### Linear, c=0.1, k=9"
   ]
  },
  {
   "cell_type": "code",
   "execution_count": 42,
   "metadata": {},
   "outputs": [
    {
     "name": "stdout",
     "output_type": "stream",
     "text": [
      "Cross-validation scores: [0.5        0.5        0.66666667 0.66666667 0.83333333 0.5\n",
      " 0.6        0.2        0.8       ]\n",
      "Mean CV accuracy: 0.5851851851851851\n"
     ]
    }
   ],
   "source": [
    "#Cross_Validation \n",
    "from sklearn.model_selection import KFold\n",
    "from sklearn.model_selection import cross_val_score, LeaveOneOut\n",
    "\n",
    "\n",
    "ln_model_9_0_1 = SVC(kernel='linear',C=0.1,class_weight='balanced') \n",
    "\n",
    "# Define the number of folds for cross-validation\n",
    "ln_kfold_9_0_1 = KFold(n_splits=9, shuffle=True, random_state=42)\n",
    "# Project: LeaveOneOut cross-validation instead of kfold\n",
    "# loo = LeaveOneOut()\n",
    "\n",
    "# Perform cross-validation\n",
    "ln_scores_9_0_1 = cross_val_score(ln_model_9_0_1, X, y, cv=ln_kfold_9_0_1)\n",
    "# scores = cross_val_score(model, X, y, cv=loo)\n",
    "\n",
    "# Print the cross-validation scores\n",
    "print(\"Cross-validation scores:\", ln_scores_9_0_1)\n",
    "print(\"Mean CV accuracy:\", np.mean(ln_scores_9_0_1))"
   ]
  },
  {
   "cell_type": "markdown",
   "metadata": {},
   "source": [
    "### Linear, c=1.0, k=10"
   ]
  },
  {
   "cell_type": "code",
   "execution_count": 44,
   "metadata": {},
   "outputs": [
    {
     "name": "stdout",
     "output_type": "stream",
     "text": [
      "Cross-validation scores: [0.5 0.6 0.6 0.6 1.  0.8 0.6 0.6 0.2 0.8]\n",
      "Mean CV accuracy: 0.63\n"
     ]
    }
   ],
   "source": [
    "#Cross_Validation \n",
    "from sklearn.model_selection import KFold\n",
    "from sklearn.model_selection import cross_val_score, LeaveOneOut\n",
    "\n",
    "\n",
    "ln_model_10_1_0 = SVC(kernel='linear',C=1.0,class_weight='balanced') \n",
    "\n",
    "# Define the number of folds for cross-validation\n",
    "ln_kfold_10_1_0 = KFold(n_splits=10, shuffle=True, random_state=42)\n",
    "# Project: LeaveOneOut cross-validation instead of kfold\n",
    "# loo = LeaveOneOut()\n",
    "\n",
    "# Perform cross-validation\n",
    "ln_scores_10_1_0 = cross_val_score(ln_model_10_1_0, X, y, cv=ln_kfold_10_1_0)\n",
    "# scores = cross_val_score(model, X, y, cv=loo)\n",
    "\n",
    "# Print the cross-validation scores\n",
    "print(\"Cross-validation scores:\", ln_scores_10_1_0)\n",
    "print(\"Mean CV accuracy:\", np.mean(ln_scores_10_1_0))"
   ]
  },
  {
   "cell_type": "markdown",
   "metadata": {},
   "source": [
    "### Linear, c=0.1, k=10"
   ]
  },
  {
   "cell_type": "code",
   "execution_count": 46,
   "metadata": {},
   "outputs": [
    {
     "name": "stdout",
     "output_type": "stream",
     "text": [
      "Cross-validation scores: [0.5 0.6 0.6 0.6 1.  0.8 0.6 0.6 0.2 0.8]\n",
      "Mean CV accuracy: 0.63\n"
     ]
    }
   ],
   "source": [
    "#Cross_Validation \n",
    "from sklearn.model_selection import KFold\n",
    "from sklearn.model_selection import cross_val_score, LeaveOneOut\n",
    "\n",
    "\n",
    "ln_model_10_0_1 = SVC(kernel='linear',C=0.1,class_weight='balanced') \n",
    "\n",
    "# Define the number of folds for cross-validation\n",
    "ln_kfold_10_0_1 = KFold(n_splits=10, shuffle=True, random_state=42)\n",
    "# Project: LeaveOneOut cross-validation instead of kfold\n",
    "# loo = LeaveOneOut()\n",
    "\n",
    "# Perform cross-validation\n",
    "ln_scores_10_0_1 = cross_val_score(ln_model_10_0_1, X, y, cv=ln_kfold_10_0_1)\n",
    "# scores = cross_val_score(model, X, y, cv=loo)\n",
    "\n",
    "# Print the cross-validation scores\n",
    "print(\"Cross-validation scores:\", ln_scores_10_0_1)\n",
    "print(\"Mean CV accuracy:\", np.mean(ln_scores_10_0_1))"
   ]
  },
  {
   "cell_type": "markdown",
   "metadata": {},
   "source": [
    "### rbf, c=1.0, k=5"
   ]
  },
  {
   "cell_type": "code",
   "execution_count": 48,
   "metadata": {},
   "outputs": [
    {
     "name": "stdout",
     "output_type": "stream",
     "text": [
      "Cross-validation scores: [0.54545455 0.8        0.6        0.6        0.5       ]\n",
      "Mean CV accuracy: 0.6090909090909091\n"
     ]
    }
   ],
   "source": [
    "#Cross_Validation \n",
    "from sklearn.model_selection import KFold\n",
    "from sklearn.model_selection import cross_val_score, LeaveOneOut\n",
    "\n",
    "\n",
    "rbf_model_5_1_0 = SVC(kernel='rbf',C=1.0,class_weight='balanced') \n",
    "\n",
    "# Define the number of folds for cross-validation\n",
    "rbf_kfold_5_1_0 = KFold(n_splits=5, shuffle=True, random_state=42)\n",
    "#loo = LeaveOneOut()\n",
    "\n",
    "# Perform cross-validation\n",
    "rbf_scores_5_1_0 = cross_val_score(rbf_model_5_1_0, X, y, cv=rbf_kfold_5_1_0)\n",
    "#scores = cross_val_score(model, X, y, cv=loo)\n",
    "\n",
    "# Print the cross-validation scores\n",
    "print(\"Cross-validation scores:\", rbf_scores_5_1_0)\n",
    "print(\"Mean CV accuracy:\", np.mean(rbf_scores_5_1_0))"
   ]
  },
  {
   "cell_type": "markdown",
   "metadata": {},
   "source": [
    "### rbf, c=0.1, k=5"
   ]
  },
  {
   "cell_type": "code",
   "execution_count": 50,
   "metadata": {},
   "outputs": [
    {
     "name": "stdout",
     "output_type": "stream",
     "text": [
      "Cross-validation scores: [0.36363636 0.4        0.4        0.4        0.4       ]\n",
      "Mean CV accuracy: 0.3927272727272727\n"
     ]
    }
   ],
   "source": [
    "#Cross_Validation \n",
    "from sklearn.model_selection import KFold\n",
    "from sklearn.model_selection import cross_val_score, LeaveOneOut\n",
    "\n",
    "\n",
    "rbf_model_5_0_1 = SVC(kernel='rbf',C=0.1,class_weight='balanced') \n",
    "\n",
    "# Define the number of folds for cross-validation\n",
    "rbf_kfold_5_0_1 = KFold(n_splits=5, shuffle=True, random_state=42)\n",
    "#loo = LeaveOneOut()\n",
    "\n",
    "# Perform cross-validation\n",
    "rbf_scores_5_0_1 = cross_val_score(rbf_model_5_0_1, X, y, cv=rbf_kfold_5_0_1)\n",
    "#scores = cross_val_score(model, X, y, cv=loo)\n",
    "\n",
    "# Print the cross-validation scores\n",
    "print(\"Cross-validation scores:\", rbf_scores_5_0_1)\n",
    "print(\"Mean CV accuracy:\", np.mean(rbf_scores_5_0_1))"
   ]
  },
  {
   "cell_type": "markdown",
   "metadata": {},
   "source": [
    "### rbf, c=1.0, k=6"
   ]
  },
  {
   "cell_type": "code",
   "execution_count": 52,
   "metadata": {},
   "outputs": [
    {
     "name": "stdout",
     "output_type": "stream",
     "text": [
      "Cross-validation scores: [0.55555556 0.88888889 0.77777778 0.625      0.375      0.625     ]\n",
      "Mean CV accuracy: 0.6412037037037037\n"
     ]
    }
   ],
   "source": [
    "#Cross_Validation \n",
    "from sklearn.model_selection import KFold\n",
    "from sklearn.model_selection import cross_val_score, LeaveOneOut\n",
    "\n",
    "\n",
    "rbf_model_6_1_0 = SVC(kernel='rbf',C=1.0,class_weight='balanced') \n",
    "\n",
    "# Define the number of folds for cross-validation\n",
    "rbf_kfold_6_1_0 = KFold(n_splits=6, shuffle=True, random_state=42)\n",
    "#loo = LeaveOneOut()\n",
    "\n",
    "# Perform cross-validation\n",
    "rbf_scores_6_1_0 = cross_val_score(rbf_model_6_1_0, X, y, cv=rbf_kfold_6_1_0)\n",
    "#scores = cross_val_score(model, X, y, cv=loo)\n",
    "\n",
    "# Print the cross-validation scores\n",
    "print(\"Cross-validation scores:\", rbf_scores_6_1_0)\n",
    "print(\"Mean CV accuracy:\", np.mean(rbf_scores_6_1_0))"
   ]
  },
  {
   "cell_type": "markdown",
   "metadata": {},
   "source": [
    "### rbf, c=0.1, k=6"
   ]
  },
  {
   "cell_type": "code",
   "execution_count": 54,
   "metadata": {},
   "outputs": [
    {
     "name": "stdout",
     "output_type": "stream",
     "text": [
      "Cross-validation scores: [0.33333333 0.44444444 0.33333333 0.375      0.25       0.375     ]\n",
      "Mean CV accuracy: 0.3518518518518518\n"
     ]
    }
   ],
   "source": [
    "#Cross_Validation \n",
    "from sklearn.model_selection import KFold\n",
    "from sklearn.model_selection import cross_val_score, LeaveOneOut\n",
    "\n",
    "\n",
    "rbf_model_6_0_1 = SVC(kernel='rbf',C=0.1,class_weight='balanced') \n",
    "\n",
    "# Define the number of folds for cross-validation\n",
    "rbf_kfold_6_0_1 = KFold(n_splits=6, shuffle=True, random_state=42)\n",
    "#loo = LeaveOneOut()\n",
    "\n",
    "# Perform cross-validation\n",
    "rbf_scores_6_0_1 = cross_val_score(rbf_model_6_0_1, X, y, cv=rbf_kfold_6_0_1)\n",
    "#scores = cross_val_score(model, X, y, cv=loo)\n",
    "\n",
    "# Print the cross-validation scores\n",
    "print(\"Cross-validation scores:\", rbf_scores_6_0_1)\n",
    "print(\"Mean CV accuracy:\", np.mean(rbf_scores_6_0_1))"
   ]
  }
 ],
 "metadata": {
  "kernelspec": {
   "display_name": "Python [conda env:base]",
   "language": "python",
   "name": "conda-base-py"
  },
  "language_info": {
   "codemirror_mode": {
    "name": "ipython",
    "version": 3
   },
   "file_extension": ".py",
   "mimetype": "text/x-python",
   "name": "python",
   "nbconvert_exporter": "python",
   "pygments_lexer": "ipython3",
   "version": "3.12.7"
  }
 },
 "nbformat": 4,
 "nbformat_minor": 4
}
